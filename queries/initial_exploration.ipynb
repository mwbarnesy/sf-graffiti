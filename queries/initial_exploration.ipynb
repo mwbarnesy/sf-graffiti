{
 "cells": [
  {
   "cell_type": "code",
   "execution_count": 1,
   "metadata": {},
   "outputs": [],
   "source": [
    "import pandas as pd\n",
    "import matplotlib.pyplot as plt\n",
    "import matplotlib.pyplot as plt\n",
    "import seaborn as sns\n",
    "import numpy as np"
   ]
  },
  {
   "cell_type": "markdown",
   "metadata": {},
   "source": [
    "### Initial Quesitons\n",
    "---\n",
    "<ol>\n",
    "    <li>What years does the data set cover?\n",
    "    <li>What neighborhoods have the most graffiti?\n",
    "    <li>What types of graffiti are most prominent?\n",
    "    <li>How many cases are still open? How many are closed? Which neighborhoods have the highest open cases? Closed?\n",
    "    <li>Explore \"offensive\" graffiti. Is there more offensive graffiti than not?\n",
    "</ol>"
   ]
  },
  {
   "cell_type": "code",
   "execution_count": 128,
   "metadata": {
    "scrolled": true
   },
   "outputs": [
    {
     "data": {
      "text/html": [
       "<div>\n",
       "<style scoped>\n",
       "    .dataframe tbody tr th:only-of-type {\n",
       "        vertical-align: middle;\n",
       "    }\n",
       "\n",
       "    .dataframe tbody tr th {\n",
       "        vertical-align: top;\n",
       "    }\n",
       "\n",
       "    .dataframe thead th {\n",
       "        text-align: right;\n",
       "    }\n",
       "</style>\n",
       "<table border=\"1\" class=\"dataframe\">\n",
       "  <thead>\n",
       "    <tr style=\"text-align: right;\">\n",
       "      <th></th>\n",
       "      <th>CaseID</th>\n",
       "      <th>Opened</th>\n",
       "      <th>Closed</th>\n",
       "      <th>Updated</th>\n",
       "      <th>Status</th>\n",
       "      <th>Status Notes</th>\n",
       "      <th>Responsible Agency</th>\n",
       "      <th>Category</th>\n",
       "      <th>Request Type</th>\n",
       "      <th>Request Details</th>\n",
       "      <th>Address</th>\n",
       "      <th>Supervisor District</th>\n",
       "      <th>Neighborhood</th>\n",
       "      <th>Point</th>\n",
       "      <th>Source</th>\n",
       "      <th>Media URL</th>\n",
       "    </tr>\n",
       "  </thead>\n",
       "  <tbody>\n",
       "    <tr>\n",
       "      <th>0</th>\n",
       "      <td>10931260</td>\n",
       "      <td>05/30/2019 04:24:00 PM</td>\n",
       "      <td>07/18/2020 01:00:33 AM</td>\n",
       "      <td>07/18/2020 01:00:33 AM</td>\n",
       "      <td>Closed</td>\n",
       "      <td>Administrative Closure - Case has aged - resub...</td>\n",
       "      <td>SFFD Other Queue</td>\n",
       "      <td>Graffiti</td>\n",
       "      <td>Graffiti on Other_enter_additional_details_below</td>\n",
       "      <td>Other_enter_additional_details_below - Offensive</td>\n",
       "      <td>1515 SUTTER ST, SAN FRANCISCO, CA, 94109</td>\n",
       "      <td>5.0</td>\n",
       "      <td>Cathedral Hill</td>\n",
       "      <td>(37.786838, -122.425451)</td>\n",
       "      <td>Mobile/Open311</td>\n",
       "      <td>http://mobile311.sfgov.org/reports/10931260/ph...</td>\n",
       "    </tr>\n",
       "    <tr>\n",
       "      <th>1</th>\n",
       "      <td>10893175</td>\n",
       "      <td>05/21/2019 06:51:00 PM</td>\n",
       "      <td>07/18/2020 01:00:33 AM</td>\n",
       "      <td>07/18/2020 01:00:33 AM</td>\n",
       "      <td>Closed</td>\n",
       "      <td>Administrative Closure - Case has aged - resub...</td>\n",
       "      <td>SFFD Other Queue</td>\n",
       "      <td>Graffiti</td>\n",
       "      <td>Graffiti on Building_commercial</td>\n",
       "      <td>Building_commercial - Not_Offensive</td>\n",
       "      <td>109 OAK ST, SAN FRANCISCO, CA, 94102</td>\n",
       "      <td>5.0</td>\n",
       "      <td>Civic Center</td>\n",
       "      <td>(37.7748711, -122.4209067)</td>\n",
       "      <td>Web</td>\n",
       "      <td>NaN</td>\n",
       "    </tr>\n",
       "    <tr>\n",
       "      <th>2</th>\n",
       "      <td>12088529</td>\n",
       "      <td>02/15/2020 11:02:23 AM</td>\n",
       "      <td>02/20/2020 09:50:01 AM</td>\n",
       "      <td>02/20/2020 09:50:01 AM</td>\n",
       "      <td>Closed</td>\n",
       "      <td>Case Resolved - meter shop has closed this req...</td>\n",
       "      <td>DPT Meter_Bike Queue</td>\n",
       "      <td>Graffiti</td>\n",
       "      <td>Graffiti on Parking_meter</td>\n",
       "      <td>Parking_meter - Offensive</td>\n",
       "      <td>930 GOUGH ST, SAN FRANCISCO, CA, 94109</td>\n",
       "      <td>5.0</td>\n",
       "      <td>Cathedral Hill</td>\n",
       "      <td>(37.78193333, -122.42400333)</td>\n",
       "      <td>Mobile/Open311</td>\n",
       "      <td>http://mobile311.sfgov.org/reports/12088529/ph...</td>\n",
       "    </tr>\n",
       "    <tr>\n",
       "      <th>3</th>\n",
       "      <td>12088520</td>\n",
       "      <td>02/15/2020 11:01:00 AM</td>\n",
       "      <td>02/20/2020 10:00:02 AM</td>\n",
       "      <td>02/20/2020 10:00:02 AM</td>\n",
       "      <td>Closed</td>\n",
       "      <td>Case Resolved - meter shop has closed this req...</td>\n",
       "      <td>DPT Meter_Bike Queue</td>\n",
       "      <td>Graffiti</td>\n",
       "      <td>Graffiti on Parking_meter</td>\n",
       "      <td>Parking_meter - Offensive</td>\n",
       "      <td>880 GOUGH ST, SAN FRANCISCO, CA, 94102</td>\n",
       "      <td>5.0</td>\n",
       "      <td>Cathedral Hill</td>\n",
       "      <td>(37.78135, -122.42388833)</td>\n",
       "      <td>Mobile/Open311</td>\n",
       "      <td>http://mobile311.sfgov.org/reports/12088520/ph...</td>\n",
       "    </tr>\n",
       "    <tr>\n",
       "      <th>4</th>\n",
       "      <td>11178898</td>\n",
       "      <td>07/25/2019 01:07:00 PM</td>\n",
       "      <td>07/18/2020 01:00:33 AM</td>\n",
       "      <td>07/18/2020 01:00:33 AM</td>\n",
       "      <td>Closed</td>\n",
       "      <td>Administrative Closure - Case has aged - resub...</td>\n",
       "      <td>SFFD Other Queue</td>\n",
       "      <td>Graffiti</td>\n",
       "      <td>Graffiti on Fire_Police_Callbox</td>\n",
       "      <td>Fire_Police_Callbox - Not_Offensive</td>\n",
       "      <td>Intersection of 2ND ST and STILLMAN ST</td>\n",
       "      <td>6.0</td>\n",
       "      <td>Rincon Hill</td>\n",
       "      <td>(37.78359046, -122.39416819)</td>\n",
       "      <td>Mobile/Open311</td>\n",
       "      <td>http://mobile311.sfgov.org/reports/11178898/ph...</td>\n",
       "    </tr>\n",
       "  </tbody>\n",
       "</table>\n",
       "</div>"
      ],
      "text/plain": [
       "     CaseID                  Opened                  Closed  \\\n",
       "0  10931260  05/30/2019 04:24:00 PM  07/18/2020 01:00:33 AM   \n",
       "1  10893175  05/21/2019 06:51:00 PM  07/18/2020 01:00:33 AM   \n",
       "2  12088529  02/15/2020 11:02:23 AM  02/20/2020 09:50:01 AM   \n",
       "3  12088520  02/15/2020 11:01:00 AM  02/20/2020 10:00:02 AM   \n",
       "4  11178898  07/25/2019 01:07:00 PM  07/18/2020 01:00:33 AM   \n",
       "\n",
       "                  Updated  Status  \\\n",
       "0  07/18/2020 01:00:33 AM  Closed   \n",
       "1  07/18/2020 01:00:33 AM  Closed   \n",
       "2  02/20/2020 09:50:01 AM  Closed   \n",
       "3  02/20/2020 10:00:02 AM  Closed   \n",
       "4  07/18/2020 01:00:33 AM  Closed   \n",
       "\n",
       "                                        Status Notes    Responsible Agency  \\\n",
       "0  Administrative Closure - Case has aged - resub...      SFFD Other Queue   \n",
       "1  Administrative Closure - Case has aged - resub...      SFFD Other Queue   \n",
       "2  Case Resolved - meter shop has closed this req...  DPT Meter_Bike Queue   \n",
       "3  Case Resolved - meter shop has closed this req...  DPT Meter_Bike Queue   \n",
       "4  Administrative Closure - Case has aged - resub...      SFFD Other Queue   \n",
       "\n",
       "   Category                                      Request Type  \\\n",
       "0  Graffiti  Graffiti on Other_enter_additional_details_below   \n",
       "1  Graffiti                   Graffiti on Building_commercial   \n",
       "2  Graffiti                         Graffiti on Parking_meter   \n",
       "3  Graffiti                         Graffiti on Parking_meter   \n",
       "4  Graffiti                   Graffiti on Fire_Police_Callbox   \n",
       "\n",
       "                                    Request Details  \\\n",
       "0  Other_enter_additional_details_below - Offensive   \n",
       "1               Building_commercial - Not_Offensive   \n",
       "2                         Parking_meter - Offensive   \n",
       "3                         Parking_meter - Offensive   \n",
       "4               Fire_Police_Callbox - Not_Offensive   \n",
       "\n",
       "                                    Address  Supervisor District  \\\n",
       "0  1515 SUTTER ST, SAN FRANCISCO, CA, 94109                  5.0   \n",
       "1      109 OAK ST, SAN FRANCISCO, CA, 94102                  5.0   \n",
       "2    930 GOUGH ST, SAN FRANCISCO, CA, 94109                  5.0   \n",
       "3    880 GOUGH ST, SAN FRANCISCO, CA, 94102                  5.0   \n",
       "4    Intersection of 2ND ST and STILLMAN ST                  6.0   \n",
       "\n",
       "     Neighborhood                         Point          Source  \\\n",
       "0  Cathedral Hill      (37.786838, -122.425451)  Mobile/Open311   \n",
       "1    Civic Center    (37.7748711, -122.4209067)             Web   \n",
       "2  Cathedral Hill  (37.78193333, -122.42400333)  Mobile/Open311   \n",
       "3  Cathedral Hill     (37.78135, -122.42388833)  Mobile/Open311   \n",
       "4     Rincon Hill  (37.78359046, -122.39416819)  Mobile/Open311   \n",
       "\n",
       "                                           Media URL  \n",
       "0  http://mobile311.sfgov.org/reports/10931260/ph...  \n",
       "1                                                NaN  \n",
       "2  http://mobile311.sfgov.org/reports/12088529/ph...  \n",
       "3  http://mobile311.sfgov.org/reports/12088520/ph...  \n",
       "4  http://mobile311.sfgov.org/reports/11178898/ph...  "
      ]
     },
     "execution_count": 128,
     "metadata": {},
     "output_type": "execute_result"
    }
   ],
   "source": [
    "sf_graffiti = pd.read_csv('../data/Graffiti.csv')\n",
    "sf_graffiti.head()"
   ]
  },
  {
   "cell_type": "markdown",
   "metadata": {},
   "source": [
    "#### Change column names to lowercase, use underscores instead of spaces."
   ]
  },
  {
   "cell_type": "code",
   "execution_count": 130,
   "metadata": {},
   "outputs": [],
   "source": [
    "sf_graffiti.columns = ['caseid', 'opened', 'closed', 'updated', 'status', 'status_notes',\n",
    "       'responsible_agency', 'category', 'request_type', 'request_details',\n",
    "       'address', 'supervisor_district', 'neighborhood', 'point', 'source',\n",
    "       'media_url']"
   ]
  },
  {
   "cell_type": "markdown",
   "metadata": {},
   "source": [
    "#### Determine the value counts for each neighborhood"
   ]
  },
  {
   "cell_type": "code",
   "execution_count": 132,
   "metadata": {},
   "outputs": [],
   "source": [
    "neighborhood_counts = sf_graffiti['neighborhood'].value_counts().to_frame().reset_index()"
   ]
  },
  {
   "cell_type": "code",
   "execution_count": 133,
   "metadata": {},
   "outputs": [],
   "source": [
    "neighborhood_counts.columns = ['neighborhood', 'counts']"
   ]
  },
  {
   "cell_type": "markdown",
   "metadata": {},
   "source": [
    "#### Which neighborhoods have over 10,000 cases?"
   ]
  },
  {
   "cell_type": "code",
   "execution_count": 134,
   "metadata": {
    "scrolled": true
   },
   "outputs": [
    {
     "data": {
      "text/html": [
       "<div>\n",
       "<style scoped>\n",
       "    .dataframe tbody tr th:only-of-type {\n",
       "        vertical-align: middle;\n",
       "    }\n",
       "\n",
       "    .dataframe tbody tr th {\n",
       "        vertical-align: top;\n",
       "    }\n",
       "\n",
       "    .dataframe thead th {\n",
       "        text-align: right;\n",
       "    }\n",
       "</style>\n",
       "<table border=\"1\" class=\"dataframe\">\n",
       "  <thead>\n",
       "    <tr style=\"text-align: right;\">\n",
       "      <th></th>\n",
       "      <th>neighborhood</th>\n",
       "      <th>counts</th>\n",
       "    </tr>\n",
       "  </thead>\n",
       "  <tbody>\n",
       "    <tr>\n",
       "      <th>0</th>\n",
       "      <td>Mission</td>\n",
       "      <td>92821</td>\n",
       "    </tr>\n",
       "    <tr>\n",
       "      <th>1</th>\n",
       "      <td>South of Market</td>\n",
       "      <td>37912</td>\n",
       "    </tr>\n",
       "    <tr>\n",
       "      <th>2</th>\n",
       "      <td>Mission Dolores</td>\n",
       "      <td>27215</td>\n",
       "    </tr>\n",
       "    <tr>\n",
       "      <th>3</th>\n",
       "      <td>Inner Richmond</td>\n",
       "      <td>22556</td>\n",
       "    </tr>\n",
       "    <tr>\n",
       "      <th>4</th>\n",
       "      <td>Chinatown</td>\n",
       "      <td>20183</td>\n",
       "    </tr>\n",
       "    <tr>\n",
       "      <th>5</th>\n",
       "      <td>Outer Sunset</td>\n",
       "      <td>17613</td>\n",
       "    </tr>\n",
       "    <tr>\n",
       "      <th>6</th>\n",
       "      <td>Haight Ashbury</td>\n",
       "      <td>14046</td>\n",
       "    </tr>\n",
       "    <tr>\n",
       "      <th>7</th>\n",
       "      <td>Lower Haight</td>\n",
       "      <td>13627</td>\n",
       "    </tr>\n",
       "    <tr>\n",
       "      <th>8</th>\n",
       "      <td>Lower Nob Hill</td>\n",
       "      <td>13494</td>\n",
       "    </tr>\n",
       "    <tr>\n",
       "      <th>9</th>\n",
       "      <td>Potrero Hill</td>\n",
       "      <td>13286</td>\n",
       "    </tr>\n",
       "    <tr>\n",
       "      <th>10</th>\n",
       "      <td>Panhandle</td>\n",
       "      <td>13002</td>\n",
       "    </tr>\n",
       "    <tr>\n",
       "      <th>11</th>\n",
       "      <td>Tenderloin</td>\n",
       "      <td>12774</td>\n",
       "    </tr>\n",
       "    <tr>\n",
       "      <th>12</th>\n",
       "      <td>Duboce Triangle</td>\n",
       "      <td>12018</td>\n",
       "    </tr>\n",
       "    <tr>\n",
       "      <th>13</th>\n",
       "      <td>Outer Richmond</td>\n",
       "      <td>11995</td>\n",
       "    </tr>\n",
       "    <tr>\n",
       "      <th>14</th>\n",
       "      <td>Civic Center</td>\n",
       "      <td>11928</td>\n",
       "    </tr>\n",
       "    <tr>\n",
       "      <th>15</th>\n",
       "      <td>Western Addition</td>\n",
       "      <td>10870</td>\n",
       "    </tr>\n",
       "    <tr>\n",
       "      <th>16</th>\n",
       "      <td>Portola</td>\n",
       "      <td>10738</td>\n",
       "    </tr>\n",
       "    <tr>\n",
       "      <th>17</th>\n",
       "      <td>Excelsior</td>\n",
       "      <td>10510</td>\n",
       "    </tr>\n",
       "  </tbody>\n",
       "</table>\n",
       "</div>"
      ],
      "text/plain": [
       "        neighborhood  counts\n",
       "0            Mission   92821\n",
       "1    South of Market   37912\n",
       "2    Mission Dolores   27215\n",
       "3     Inner Richmond   22556\n",
       "4          Chinatown   20183\n",
       "5       Outer Sunset   17613\n",
       "6     Haight Ashbury   14046\n",
       "7       Lower Haight   13627\n",
       "8     Lower Nob Hill   13494\n",
       "9       Potrero Hill   13286\n",
       "10         Panhandle   13002\n",
       "11        Tenderloin   12774\n",
       "12   Duboce Triangle   12018\n",
       "13    Outer Richmond   11995\n",
       "14      Civic Center   11928\n",
       "15  Western Addition   10870\n",
       "16           Portola   10738\n",
       "17         Excelsior   10510"
      ]
     },
     "execution_count": 134,
     "metadata": {},
     "output_type": "execute_result"
    }
   ],
   "source": [
    "neighborhood_counts[neighborhood_counts['counts'] > 10000]"
   ]
  },
  {
   "cell_type": "markdown",
   "metadata": {},
   "source": [
    "#### Which neighborhoods have the most open cases?"
   ]
  },
  {
   "cell_type": "code",
   "execution_count": 205,
   "metadata": {},
   "outputs": [],
   "source": [
    "status_counts = sf_graffiti[['neighborhood', 'status']]"
   ]
  },
  {
   "cell_type": "code",
   "execution_count": 212,
   "metadata": {},
   "outputs": [
    {
     "data": {
      "text/html": [
       "<div>\n",
       "<style scoped>\n",
       "    .dataframe tbody tr th:only-of-type {\n",
       "        vertical-align: middle;\n",
       "    }\n",
       "\n",
       "    .dataframe tbody tr th {\n",
       "        vertical-align: top;\n",
       "    }\n",
       "\n",
       "    .dataframe thead th {\n",
       "        text-align: right;\n",
       "    }\n",
       "</style>\n",
       "<table border=\"1\" class=\"dataframe\">\n",
       "  <thead>\n",
       "    <tr style=\"text-align: right;\">\n",
       "      <th></th>\n",
       "      <th>neighborhood</th>\n",
       "      <th>status</th>\n",
       "    </tr>\n",
       "  </thead>\n",
       "  <tbody>\n",
       "    <tr>\n",
       "      <th>0</th>\n",
       "      <td>Cathedral Hill</td>\n",
       "      <td>Closed</td>\n",
       "    </tr>\n",
       "    <tr>\n",
       "      <th>1</th>\n",
       "      <td>Civic Center</td>\n",
       "      <td>Closed</td>\n",
       "    </tr>\n",
       "    <tr>\n",
       "      <th>2</th>\n",
       "      <td>Cathedral Hill</td>\n",
       "      <td>Closed</td>\n",
       "    </tr>\n",
       "    <tr>\n",
       "      <th>3</th>\n",
       "      <td>Cathedral Hill</td>\n",
       "      <td>Closed</td>\n",
       "    </tr>\n",
       "    <tr>\n",
       "      <th>4</th>\n",
       "      <td>Rincon Hill</td>\n",
       "      <td>Closed</td>\n",
       "    </tr>\n",
       "  </tbody>\n",
       "</table>\n",
       "</div>"
      ],
      "text/plain": [
       "     neighborhood  status\n",
       "0  Cathedral Hill  Closed\n",
       "1    Civic Center  Closed\n",
       "2  Cathedral Hill  Closed\n",
       "3  Cathedral Hill  Closed\n",
       "4     Rincon Hill  Closed"
      ]
     },
     "execution_count": 212,
     "metadata": {},
     "output_type": "execute_result"
    }
   ],
   "source": [
    "status_counts.head()"
   ]
  },
  {
   "cell_type": "code",
   "execution_count": null,
   "metadata": {},
   "outputs": [],
   "source": []
  },
  {
   "cell_type": "code",
   "execution_count": null,
   "metadata": {},
   "outputs": [],
   "source": []
  },
  {
   "cell_type": "code",
   "execution_count": null,
   "metadata": {},
   "outputs": [],
   "source": []
  },
  {
   "cell_type": "code",
   "execution_count": 196,
   "metadata": {},
   "outputs": [],
   "source": [
    "#neighborhood_status = sf_graffiti.groupby('neighborhood')['status'].value_counts().to_frame()"
   ]
  },
  {
   "cell_type": "code",
   "execution_count": 197,
   "metadata": {},
   "outputs": [],
   "source": [
    "#neighborhood_status.columns = ['counts']"
   ]
  },
  {
   "cell_type": "code",
   "execution_count": 198,
   "metadata": {},
   "outputs": [],
   "source": [
    "#neighborhood_status.head()"
   ]
  },
  {
   "cell_type": "code",
   "execution_count": 199,
   "metadata": {},
   "outputs": [],
   "source": [
    "#neighborhood_status.sort_values(by = 'counts', ascending = False)"
   ]
  },
  {
   "cell_type": "code",
   "execution_count": 137,
   "metadata": {},
   "outputs": [
    {
     "data": {
      "text/plain": [
       "Closed    588525\n",
       "Open        3233\n",
       "Name: status, dtype: int64"
      ]
     },
     "execution_count": 137,
     "metadata": {},
     "output_type": "execute_result"
    }
   ],
   "source": [
    "sf_graffiti['status'].value_counts()"
   ]
  },
  {
   "cell_type": "markdown",
   "metadata": {},
   "source": [
    "#### Convert the 'opened' column to datetime."
   ]
  },
  {
   "cell_type": "code",
   "execution_count": 148,
   "metadata": {},
   "outputs": [],
   "source": [
    "sf_graffiti['opened'] = pd.to_datetime(sf_graffiti['opened'])"
   ]
  },
  {
   "cell_type": "code",
   "execution_count": 152,
   "metadata": {},
   "outputs": [
    {
     "data": {
      "text/plain": [
       "Timestamp('2008-07-01 05:46:56')"
      ]
     },
     "execution_count": 152,
     "metadata": {},
     "output_type": "execute_result"
    }
   ],
   "source": [
    "sf_graffiti['opened'].min()"
   ]
  },
  {
   "cell_type": "code",
   "execution_count": 153,
   "metadata": {},
   "outputs": [
    {
     "data": {
      "text/plain": [
       "Timestamp('2020-08-28 01:02:00')"
      ]
     },
     "execution_count": 153,
     "metadata": {},
     "output_type": "execute_result"
    }
   ],
   "source": [
    "sf_graffiti['opened'].max()"
   ]
  },
  {
   "cell_type": "markdown",
   "metadata": {},
   "source": [
    "#### The dataset has opened cases going back to 2008."
   ]
  },
  {
   "cell_type": "code",
   "execution_count": 175,
   "metadata": {},
   "outputs": [],
   "source": [
    "sf_graffiti['opened_year'] = sf_graffiti['opened'].dt.year"
   ]
  },
  {
   "cell_type": "code",
   "execution_count": null,
   "metadata": {},
   "outputs": [],
   "source": []
  }
 ],
 "metadata": {
  "kernelspec": {
   "display_name": "Python 3",
   "language": "python",
   "name": "python3"
  },
  "language_info": {
   "codemirror_mode": {
    "name": "ipython",
    "version": 3
   },
   "file_extension": ".py",
   "mimetype": "text/x-python",
   "name": "python",
   "nbconvert_exporter": "python",
   "pygments_lexer": "ipython3",
   "version": "3.7.3"
  }
 },
 "nbformat": 4,
 "nbformat_minor": 2
}
