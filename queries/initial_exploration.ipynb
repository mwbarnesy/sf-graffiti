{
 "cells": [
  {
   "cell_type": "code",
   "execution_count": 1,
   "metadata": {},
   "outputs": [],
   "source": [
    "import pandas as pd\n",
    "import matplotlib.pyplot as plt\n",
    "import matplotlib.pyplot as plt\n",
    "import seaborn as sns\n",
    "import numpy as np\n",
    "import folium\n",
    "\n",
    "%matplotlib inline"
   ]
  },
  {
   "cell_type": "markdown",
   "metadata": {},
   "source": [
    "### Initial Quesitons\n",
    "---\n",
    "<ol>\n",
    "    <li>What years does the data set cover?</li>\n",
    "    <li>What neighborhoods have the most graffiti?</li>\n",
    "    <li>What types of graffiti are most prominent?</li>\n",
    "    <li>How many cases are still open? How many are closed? Which neighborhoods have the highest open cases? Closed?</li>\n",
    "    <li>Explore \"offensive\" graffiti. Is there more offensive graffiti than not?</li>\n",
    "</ol>"
   ]
  },
  {
   "cell_type": "code",
   "execution_count": 2,
   "metadata": {
    "scrolled": true
   },
   "outputs": [
    {
     "data": {
      "text/html": [
       "<div>\n",
       "<style scoped>\n",
       "    .dataframe tbody tr th:only-of-type {\n",
       "        vertical-align: middle;\n",
       "    }\n",
       "\n",
       "    .dataframe tbody tr th {\n",
       "        vertical-align: top;\n",
       "    }\n",
       "\n",
       "    .dataframe thead th {\n",
       "        text-align: right;\n",
       "    }\n",
       "</style>\n",
       "<table border=\"1\" class=\"dataframe\">\n",
       "  <thead>\n",
       "    <tr style=\"text-align: right;\">\n",
       "      <th></th>\n",
       "      <th>CaseID</th>\n",
       "      <th>Opened</th>\n",
       "      <th>Closed</th>\n",
       "      <th>Updated</th>\n",
       "      <th>Status</th>\n",
       "      <th>Status Notes</th>\n",
       "      <th>Responsible Agency</th>\n",
       "      <th>Category</th>\n",
       "      <th>Request Type</th>\n",
       "      <th>Request Details</th>\n",
       "      <th>Address</th>\n",
       "      <th>Supervisor District</th>\n",
       "      <th>Neighborhood</th>\n",
       "      <th>Point</th>\n",
       "      <th>Source</th>\n",
       "      <th>Media URL</th>\n",
       "    </tr>\n",
       "  </thead>\n",
       "  <tbody>\n",
       "    <tr>\n",
       "      <th>0</th>\n",
       "      <td>10931260</td>\n",
       "      <td>05/30/2019 04:24:00 PM</td>\n",
       "      <td>07/18/2020 01:00:33 AM</td>\n",
       "      <td>07/18/2020 01:00:33 AM</td>\n",
       "      <td>Closed</td>\n",
       "      <td>Administrative Closure - Case has aged - resub...</td>\n",
       "      <td>SFFD Other Queue</td>\n",
       "      <td>Graffiti</td>\n",
       "      <td>Graffiti on Other_enter_additional_details_below</td>\n",
       "      <td>Other_enter_additional_details_below - Offensive</td>\n",
       "      <td>1515 SUTTER ST, SAN FRANCISCO, CA, 94109</td>\n",
       "      <td>5.0</td>\n",
       "      <td>Cathedral Hill</td>\n",
       "      <td>(37.786838, -122.425451)</td>\n",
       "      <td>Mobile/Open311</td>\n",
       "      <td>http://mobile311.sfgov.org/reports/10931260/ph...</td>\n",
       "    </tr>\n",
       "    <tr>\n",
       "      <th>1</th>\n",
       "      <td>10893175</td>\n",
       "      <td>05/21/2019 06:51:00 PM</td>\n",
       "      <td>07/18/2020 01:00:33 AM</td>\n",
       "      <td>07/18/2020 01:00:33 AM</td>\n",
       "      <td>Closed</td>\n",
       "      <td>Administrative Closure - Case has aged - resub...</td>\n",
       "      <td>SFFD Other Queue</td>\n",
       "      <td>Graffiti</td>\n",
       "      <td>Graffiti on Building_commercial</td>\n",
       "      <td>Building_commercial - Not_Offensive</td>\n",
       "      <td>109 OAK ST, SAN FRANCISCO, CA, 94102</td>\n",
       "      <td>5.0</td>\n",
       "      <td>Civic Center</td>\n",
       "      <td>(37.7748711, -122.4209067)</td>\n",
       "      <td>Web</td>\n",
       "      <td>NaN</td>\n",
       "    </tr>\n",
       "    <tr>\n",
       "      <th>2</th>\n",
       "      <td>12088529</td>\n",
       "      <td>02/15/2020 11:02:23 AM</td>\n",
       "      <td>02/20/2020 09:50:01 AM</td>\n",
       "      <td>02/20/2020 09:50:01 AM</td>\n",
       "      <td>Closed</td>\n",
       "      <td>Case Resolved - meter shop has closed this req...</td>\n",
       "      <td>DPT Meter_Bike Queue</td>\n",
       "      <td>Graffiti</td>\n",
       "      <td>Graffiti on Parking_meter</td>\n",
       "      <td>Parking_meter - Offensive</td>\n",
       "      <td>930 GOUGH ST, SAN FRANCISCO, CA, 94109</td>\n",
       "      <td>5.0</td>\n",
       "      <td>Cathedral Hill</td>\n",
       "      <td>(37.78193333, -122.42400333)</td>\n",
       "      <td>Mobile/Open311</td>\n",
       "      <td>http://mobile311.sfgov.org/reports/12088529/ph...</td>\n",
       "    </tr>\n",
       "    <tr>\n",
       "      <th>3</th>\n",
       "      <td>12088520</td>\n",
       "      <td>02/15/2020 11:01:00 AM</td>\n",
       "      <td>02/20/2020 10:00:02 AM</td>\n",
       "      <td>02/20/2020 10:00:02 AM</td>\n",
       "      <td>Closed</td>\n",
       "      <td>Case Resolved - meter shop has closed this req...</td>\n",
       "      <td>DPT Meter_Bike Queue</td>\n",
       "      <td>Graffiti</td>\n",
       "      <td>Graffiti on Parking_meter</td>\n",
       "      <td>Parking_meter - Offensive</td>\n",
       "      <td>880 GOUGH ST, SAN FRANCISCO, CA, 94102</td>\n",
       "      <td>5.0</td>\n",
       "      <td>Cathedral Hill</td>\n",
       "      <td>(37.78135, -122.42388833)</td>\n",
       "      <td>Mobile/Open311</td>\n",
       "      <td>http://mobile311.sfgov.org/reports/12088520/ph...</td>\n",
       "    </tr>\n",
       "    <tr>\n",
       "      <th>4</th>\n",
       "      <td>11178898</td>\n",
       "      <td>07/25/2019 01:07:00 PM</td>\n",
       "      <td>07/18/2020 01:00:33 AM</td>\n",
       "      <td>07/18/2020 01:00:33 AM</td>\n",
       "      <td>Closed</td>\n",
       "      <td>Administrative Closure - Case has aged - resub...</td>\n",
       "      <td>SFFD Other Queue</td>\n",
       "      <td>Graffiti</td>\n",
       "      <td>Graffiti on Fire_Police_Callbox</td>\n",
       "      <td>Fire_Police_Callbox - Not_Offensive</td>\n",
       "      <td>Intersection of 2ND ST and STILLMAN ST</td>\n",
       "      <td>6.0</td>\n",
       "      <td>Rincon Hill</td>\n",
       "      <td>(37.78359046, -122.39416819)</td>\n",
       "      <td>Mobile/Open311</td>\n",
       "      <td>http://mobile311.sfgov.org/reports/11178898/ph...</td>\n",
       "    </tr>\n",
       "  </tbody>\n",
       "</table>\n",
       "</div>"
      ],
      "text/plain": [
       "     CaseID                  Opened                  Closed  \\\n",
       "0  10931260  05/30/2019 04:24:00 PM  07/18/2020 01:00:33 AM   \n",
       "1  10893175  05/21/2019 06:51:00 PM  07/18/2020 01:00:33 AM   \n",
       "2  12088529  02/15/2020 11:02:23 AM  02/20/2020 09:50:01 AM   \n",
       "3  12088520  02/15/2020 11:01:00 AM  02/20/2020 10:00:02 AM   \n",
       "4  11178898  07/25/2019 01:07:00 PM  07/18/2020 01:00:33 AM   \n",
       "\n",
       "                  Updated  Status  \\\n",
       "0  07/18/2020 01:00:33 AM  Closed   \n",
       "1  07/18/2020 01:00:33 AM  Closed   \n",
       "2  02/20/2020 09:50:01 AM  Closed   \n",
       "3  02/20/2020 10:00:02 AM  Closed   \n",
       "4  07/18/2020 01:00:33 AM  Closed   \n",
       "\n",
       "                                        Status Notes    Responsible Agency  \\\n",
       "0  Administrative Closure - Case has aged - resub...      SFFD Other Queue   \n",
       "1  Administrative Closure - Case has aged - resub...      SFFD Other Queue   \n",
       "2  Case Resolved - meter shop has closed this req...  DPT Meter_Bike Queue   \n",
       "3  Case Resolved - meter shop has closed this req...  DPT Meter_Bike Queue   \n",
       "4  Administrative Closure - Case has aged - resub...      SFFD Other Queue   \n",
       "\n",
       "   Category                                      Request Type  \\\n",
       "0  Graffiti  Graffiti on Other_enter_additional_details_below   \n",
       "1  Graffiti                   Graffiti on Building_commercial   \n",
       "2  Graffiti                         Graffiti on Parking_meter   \n",
       "3  Graffiti                         Graffiti on Parking_meter   \n",
       "4  Graffiti                   Graffiti on Fire_Police_Callbox   \n",
       "\n",
       "                                    Request Details  \\\n",
       "0  Other_enter_additional_details_below - Offensive   \n",
       "1               Building_commercial - Not_Offensive   \n",
       "2                         Parking_meter - Offensive   \n",
       "3                         Parking_meter - Offensive   \n",
       "4               Fire_Police_Callbox - Not_Offensive   \n",
       "\n",
       "                                    Address  Supervisor District  \\\n",
       "0  1515 SUTTER ST, SAN FRANCISCO, CA, 94109                  5.0   \n",
       "1      109 OAK ST, SAN FRANCISCO, CA, 94102                  5.0   \n",
       "2    930 GOUGH ST, SAN FRANCISCO, CA, 94109                  5.0   \n",
       "3    880 GOUGH ST, SAN FRANCISCO, CA, 94102                  5.0   \n",
       "4    Intersection of 2ND ST and STILLMAN ST                  6.0   \n",
       "\n",
       "     Neighborhood                         Point          Source  \\\n",
       "0  Cathedral Hill      (37.786838, -122.425451)  Mobile/Open311   \n",
       "1    Civic Center    (37.7748711, -122.4209067)             Web   \n",
       "2  Cathedral Hill  (37.78193333, -122.42400333)  Mobile/Open311   \n",
       "3  Cathedral Hill     (37.78135, -122.42388833)  Mobile/Open311   \n",
       "4     Rincon Hill  (37.78359046, -122.39416819)  Mobile/Open311   \n",
       "\n",
       "                                           Media URL  \n",
       "0  http://mobile311.sfgov.org/reports/10931260/ph...  \n",
       "1                                                NaN  \n",
       "2  http://mobile311.sfgov.org/reports/12088529/ph...  \n",
       "3  http://mobile311.sfgov.org/reports/12088520/ph...  \n",
       "4  http://mobile311.sfgov.org/reports/11178898/ph...  "
      ]
     },
     "execution_count": 2,
     "metadata": {},
     "output_type": "execute_result"
    }
   ],
   "source": [
    "sf_graffiti = pd.read_csv('../data/Graffiti.csv')\n",
    "sf_graffiti.head()"
   ]
  },
  {
   "cell_type": "markdown",
   "metadata": {},
   "source": [
    "#### Change column names to lowercase, use underscores instead of spaces."
   ]
  },
  {
   "cell_type": "code",
   "execution_count": 3,
   "metadata": {},
   "outputs": [],
   "source": [
    "sf_graffiti.columns = ['caseid', 'opened', 'closed', 'updated', 'status', 'status_notes',\n",
    "       'responsible_agency', 'category', 'request_type', 'request_details',\n",
    "       'address', 'supervisor_district', 'neighborhood', 'point', 'source',\n",
    "       'media_url']"
   ]
  },
  {
   "cell_type": "markdown",
   "metadata": {},
   "source": [
    "#### Determine the value counts for each neighborhood"
   ]
  },
  {
   "cell_type": "code",
   "execution_count": 4,
   "metadata": {},
   "outputs": [],
   "source": [
    "neighborhood_counts = sf_graffiti['neighborhood'].value_counts().to_frame().reset_index()"
   ]
  },
  {
   "cell_type": "code",
   "execution_count": 5,
   "metadata": {},
   "outputs": [],
   "source": [
    "neighborhood_counts.columns = ['neighborhood', 'counts']"
   ]
  },
  {
   "cell_type": "markdown",
   "metadata": {},
   "source": [
    "#### Which neighborhoods have over 10,000 cases?"
   ]
  },
  {
   "cell_type": "code",
   "execution_count": 6,
   "metadata": {
    "scrolled": true
   },
   "outputs": [],
   "source": [
    "top_10_neighborhoood_counts = neighborhood_counts[neighborhood_counts['counts'] > 10000].head(10)"
   ]
  },
  {
   "cell_type": "markdown",
   "metadata": {},
   "source": [
    "#### Which neighborhoods have the most open cases?"
   ]
  },
  {
   "cell_type": "code",
   "execution_count": 7,
   "metadata": {},
   "outputs": [],
   "source": [
    "status_counts = sf_graffiti[['neighborhood', 'status']]"
   ]
  },
  {
   "cell_type": "code",
   "execution_count": 8,
   "metadata": {},
   "outputs": [
    {
     "data": {
      "text/html": [
       "<div>\n",
       "<style scoped>\n",
       "    .dataframe tbody tr th:only-of-type {\n",
       "        vertical-align: middle;\n",
       "    }\n",
       "\n",
       "    .dataframe tbody tr th {\n",
       "        vertical-align: top;\n",
       "    }\n",
       "\n",
       "    .dataframe thead th {\n",
       "        text-align: right;\n",
       "    }\n",
       "</style>\n",
       "<table border=\"1\" class=\"dataframe\">\n",
       "  <thead>\n",
       "    <tr style=\"text-align: right;\">\n",
       "      <th></th>\n",
       "      <th>neighborhood</th>\n",
       "      <th>status</th>\n",
       "    </tr>\n",
       "  </thead>\n",
       "  <tbody>\n",
       "    <tr>\n",
       "      <th>0</th>\n",
       "      <td>Cathedral Hill</td>\n",
       "      <td>Closed</td>\n",
       "    </tr>\n",
       "    <tr>\n",
       "      <th>1</th>\n",
       "      <td>Civic Center</td>\n",
       "      <td>Closed</td>\n",
       "    </tr>\n",
       "    <tr>\n",
       "      <th>2</th>\n",
       "      <td>Cathedral Hill</td>\n",
       "      <td>Closed</td>\n",
       "    </tr>\n",
       "    <tr>\n",
       "      <th>3</th>\n",
       "      <td>Cathedral Hill</td>\n",
       "      <td>Closed</td>\n",
       "    </tr>\n",
       "    <tr>\n",
       "      <th>4</th>\n",
       "      <td>Rincon Hill</td>\n",
       "      <td>Closed</td>\n",
       "    </tr>\n",
       "  </tbody>\n",
       "</table>\n",
       "</div>"
      ],
      "text/plain": [
       "     neighborhood  status\n",
       "0  Cathedral Hill  Closed\n",
       "1    Civic Center  Closed\n",
       "2  Cathedral Hill  Closed\n",
       "3  Cathedral Hill  Closed\n",
       "4     Rincon Hill  Closed"
      ]
     },
     "execution_count": 8,
     "metadata": {},
     "output_type": "execute_result"
    }
   ],
   "source": [
    "status_counts.head()"
   ]
  },
  {
   "cell_type": "code",
   "execution_count": 9,
   "metadata": {},
   "outputs": [],
   "source": [
    "open_status = sf_graffiti.query('status == \"Open\"')"
   ]
  },
  {
   "cell_type": "code",
   "execution_count": 10,
   "metadata": {},
   "outputs": [],
   "source": [
    "#open_status.groupby('neighborhood')['status'].value_counts().sort_values(ascending = False).head(20)"
   ]
  },
  {
   "cell_type": "markdown",
   "metadata": {},
   "source": [
    "#### What is the most prominent type of graffiti?"
   ]
  },
  {
   "cell_type": "code",
   "execution_count": 11,
   "metadata": {},
   "outputs": [
    {
     "data": {
      "text/plain": [
       "Graffiti on Pole                                    85815\n",
       "Graffiti on Building_commercial                     83923\n",
       "Graffiti on Building_other                          57838\n",
       "Graffiti on Other_enter_additional_details_below    55569\n",
       "Graffiti on Signal_box                              41607\n",
       "Graffiti on Building_residential                    36340\n",
       "Graffiti on Mail_box                                34208\n",
       "Graffiti on Sidewalk_in_front_of_property           34069\n",
       "Graffiti on Transit_Shelter_Platform                21145\n",
       "Graffiti on Sidewalk_structure                      20820\n",
       "Graffiti on Parking_meter                           17765\n",
       "Graffiti on City_receptacle                         15459\n",
       "Graffiti on News_rack                               15021\n",
       "Park - Structural_Maintenance                       10879\n",
       "Graffiti                                            10878\n",
       "Graffiti on Street                                   9770\n",
       "Graffiti on Fire_Police_Callbox                      9346\n",
       "Graffiti on Fire_hydrant                             7499\n",
       "Graffiti on ATT_Property                             6823\n",
       "Graffiti on Sign                                     6056\n",
       "Name: request_type, dtype: int64"
      ]
     },
     "execution_count": 11,
     "metadata": {},
     "output_type": "execute_result"
    }
   ],
   "source": [
    "sf_graffiti['request_type'].value_counts().head(20)"
   ]
  },
  {
   "cell_type": "markdown",
   "metadata": {},
   "source": [
    "#### Explore offensive graffiti. Is there more offensive graffiti than not? Is it concentrated in a specific neighborhood?"
   ]
  },
  {
   "cell_type": "code",
   "execution_count": 12,
   "metadata": {},
   "outputs": [
    {
     "data": {
      "text/html": [
       "<div>\n",
       "<style scoped>\n",
       "    .dataframe tbody tr th:only-of-type {\n",
       "        vertical-align: middle;\n",
       "    }\n",
       "\n",
       "    .dataframe tbody tr th {\n",
       "        vertical-align: top;\n",
       "    }\n",
       "\n",
       "    .dataframe thead th {\n",
       "        text-align: right;\n",
       "    }\n",
       "</style>\n",
       "<table border=\"1\" class=\"dataframe\">\n",
       "  <thead>\n",
       "    <tr style=\"text-align: right;\">\n",
       "      <th></th>\n",
       "      <th>caseid</th>\n",
       "      <th>opened</th>\n",
       "      <th>closed</th>\n",
       "      <th>updated</th>\n",
       "      <th>status</th>\n",
       "      <th>status_notes</th>\n",
       "      <th>responsible_agency</th>\n",
       "      <th>category</th>\n",
       "      <th>request_type</th>\n",
       "      <th>request_details</th>\n",
       "      <th>address</th>\n",
       "      <th>supervisor_district</th>\n",
       "      <th>neighborhood</th>\n",
       "      <th>point</th>\n",
       "      <th>source</th>\n",
       "      <th>media_url</th>\n",
       "    </tr>\n",
       "  </thead>\n",
       "  <tbody>\n",
       "    <tr>\n",
       "      <th>52928</th>\n",
       "      <td>473279</td>\n",
       "      <td>07/22/2009 03:51:29 PM</td>\n",
       "      <td>07/27/2009 05:11:10 PM</td>\n",
       "      <td>07/27/2009 05:11:10 PM</td>\n",
       "      <td>Closed</td>\n",
       "      <td>See Notes tab for more details</td>\n",
       "      <td>DPW Ops Queue</td>\n",
       "      <td>Graffiti</td>\n",
       "      <td>SSP Graffiti on Public Property</td>\n",
       "      <td>Not_Offensive</td>\n",
       "      <td>Intersection of HAIGHT ST and MASONIC AVE</td>\n",
       "      <td>5.0</td>\n",
       "      <td>Haight Ashbury</td>\n",
       "      <td>(37.77021027, -122.44534302)</td>\n",
       "      <td>Web</td>\n",
       "      <td>NaN</td>\n",
       "    </tr>\n",
       "    <tr>\n",
       "      <th>99903</th>\n",
       "      <td>702316</td>\n",
       "      <td>07/28/2010 08:47:44 PM</td>\n",
       "      <td>09/28/2010 11:09:54 AM</td>\n",
       "      <td>09/28/2010 11:09:54 AM</td>\n",
       "      <td>Closed</td>\n",
       "      <td>See Notes tab for more details</td>\n",
       "      <td>DPW Ops Queue</td>\n",
       "      <td>Graffiti</td>\n",
       "      <td>SSP Graffiti on Public Property</td>\n",
       "      <td>Not_Offensive</td>\n",
       "      <td>Not associated with a specific address</td>\n",
       "      <td>NaN</td>\n",
       "      <td>NaN</td>\n",
       "      <td>(0.0, 0.0)</td>\n",
       "      <td>Web</td>\n",
       "      <td>NaN</td>\n",
       "    </tr>\n",
       "    <tr>\n",
       "      <th>384103</th>\n",
       "      <td>381122</td>\n",
       "      <td>03/02/2009 06:04:43 AM</td>\n",
       "      <td>03/02/2009 10:10:01 AM</td>\n",
       "      <td>03/02/2009 10:10:01 AM</td>\n",
       "      <td>Closed</td>\n",
       "      <td>See Notes tab for more details</td>\n",
       "      <td>DPW Ops Queue</td>\n",
       "      <td>Graffiti</td>\n",
       "      <td>SSP Graffiti on Public Property</td>\n",
       "      <td>Not_Offensive</td>\n",
       "      <td>Intersection of CESAR CHAVEZ ON RAMP and POTRE...</td>\n",
       "      <td>10.0</td>\n",
       "      <td>Potrero Hill</td>\n",
       "      <td>(37.75136566, -122.40618896)</td>\n",
       "      <td>Web</td>\n",
       "      <td>NaN</td>\n",
       "    </tr>\n",
       "    <tr>\n",
       "      <th>556315</th>\n",
       "      <td>11133834</td>\n",
       "      <td>07/15/2019 09:27:32 PM</td>\n",
       "      <td>07/29/2019 10:05:00 AM</td>\n",
       "      <td>07/29/2019 10:05:00 AM</td>\n",
       "      <td>Closed</td>\n",
       "      <td>Case is a Duplicate - Duplicate of SR#11133833</td>\n",
       "      <td>DPW Ops Queue</td>\n",
       "      <td>Graffiti</td>\n",
       "      <td>Graffiti on Public Property</td>\n",
       "      <td>Not_Offensive graffiti on a {{request_type.lab...</td>\n",
       "      <td>461 CAPP ST, SAN FRANCISCO, CA, 94110</td>\n",
       "      <td>9.0</td>\n",
       "      <td>Mission</td>\n",
       "      <td>(37.759489, -122.4177413)</td>\n",
       "      <td>Web</td>\n",
       "      <td>http://mobile311.sfgov.org/reports/11133834/ph...</td>\n",
       "    </tr>\n",
       "  </tbody>\n",
       "</table>\n",
       "</div>"
      ],
      "text/plain": [
       "          caseid                  opened                  closed  \\\n",
       "52928     473279  07/22/2009 03:51:29 PM  07/27/2009 05:11:10 PM   \n",
       "99903     702316  07/28/2010 08:47:44 PM  09/28/2010 11:09:54 AM   \n",
       "384103    381122  03/02/2009 06:04:43 AM  03/02/2009 10:10:01 AM   \n",
       "556315  11133834  07/15/2019 09:27:32 PM  07/29/2019 10:05:00 AM   \n",
       "\n",
       "                       updated  status  \\\n",
       "52928   07/27/2009 05:11:10 PM  Closed   \n",
       "99903   09/28/2010 11:09:54 AM  Closed   \n",
       "384103  03/02/2009 10:10:01 AM  Closed   \n",
       "556315  07/29/2019 10:05:00 AM  Closed   \n",
       "\n",
       "                                          status_notes responsible_agency  \\\n",
       "52928                   See Notes tab for more details      DPW Ops Queue   \n",
       "99903                   See Notes tab for more details      DPW Ops Queue   \n",
       "384103                  See Notes tab for more details      DPW Ops Queue   \n",
       "556315  Case is a Duplicate - Duplicate of SR#11133833      DPW Ops Queue   \n",
       "\n",
       "        category                     request_type  \\\n",
       "52928   Graffiti  SSP Graffiti on Public Property   \n",
       "99903   Graffiti  SSP Graffiti on Public Property   \n",
       "384103  Graffiti  SSP Graffiti on Public Property   \n",
       "556315  Graffiti      Graffiti on Public Property   \n",
       "\n",
       "                                          request_details  \\\n",
       "52928                                       Not_Offensive   \n",
       "99903                                       Not_Offensive   \n",
       "384103                                      Not_Offensive   \n",
       "556315  Not_Offensive graffiti on a {{request_type.lab...   \n",
       "\n",
       "                                                  address  \\\n",
       "52928           Intersection of HAIGHT ST and MASONIC AVE   \n",
       "99903              Not associated with a specific address   \n",
       "384103  Intersection of CESAR CHAVEZ ON RAMP and POTRE...   \n",
       "556315              461 CAPP ST, SAN FRANCISCO, CA, 94110   \n",
       "\n",
       "        supervisor_district    neighborhood                         point  \\\n",
       "52928                   5.0  Haight Ashbury  (37.77021027, -122.44534302)   \n",
       "99903                   NaN             NaN                    (0.0, 0.0)   \n",
       "384103                 10.0    Potrero Hill  (37.75136566, -122.40618896)   \n",
       "556315                  9.0         Mission     (37.759489, -122.4177413)   \n",
       "\n",
       "       source                                          media_url  \n",
       "52928     Web                                                NaN  \n",
       "99903     Web                                                NaN  \n",
       "384103    Web                                                NaN  \n",
       "556315    Web  http://mobile311.sfgov.org/reports/11133834/ph...  "
      ]
     },
     "execution_count": 12,
     "metadata": {},
     "output_type": "execute_result"
    }
   ],
   "source": [
    "sf_graffiti[sf_graffiti['request_details'].str.match('Not_Offensive', na = False)]"
   ]
  },
  {
   "cell_type": "code",
   "execution_count": null,
   "metadata": {},
   "outputs": [],
   "source": []
  },
  {
   "cell_type": "code",
   "execution_count": 13,
   "metadata": {},
   "outputs": [],
   "source": [
    "#neighborhood_status = sf_graffiti.groupby('neighborhood')['status'].value_counts().to_frame()"
   ]
  },
  {
   "cell_type": "code",
   "execution_count": 14,
   "metadata": {},
   "outputs": [],
   "source": [
    "#neighborhood_status.columns = ['counts']"
   ]
  },
  {
   "cell_type": "code",
   "execution_count": 15,
   "metadata": {},
   "outputs": [],
   "source": [
    "#neighborhood_status.head()"
   ]
  },
  {
   "cell_type": "code",
   "execution_count": 16,
   "metadata": {},
   "outputs": [],
   "source": [
    "#neighborhood_status.sort_values(by = 'counts', ascending = False)"
   ]
  },
  {
   "cell_type": "code",
   "execution_count": 17,
   "metadata": {
    "scrolled": true
   },
   "outputs": [
    {
     "data": {
      "text/plain": [
       "Closed    588525\n",
       "Open        3233\n",
       "Name: status, dtype: int64"
      ]
     },
     "execution_count": 17,
     "metadata": {},
     "output_type": "execute_result"
    }
   ],
   "source": [
    "sf_graffiti['status'].value_counts()"
   ]
  },
  {
   "cell_type": "markdown",
   "metadata": {},
   "source": [
    "#### Convert the 'opened' column to datetime."
   ]
  },
  {
   "cell_type": "code",
   "execution_count": 18,
   "metadata": {},
   "outputs": [],
   "source": [
    "sf_graffiti['opened'] = pd.to_datetime(sf_graffiti['opened'])"
   ]
  },
  {
   "cell_type": "markdown",
   "metadata": {},
   "source": [
    "sf_graffiti['opened'].min()\n",
    "Timestamp('2008-07-01 05:46:56')"
   ]
  },
  {
   "cell_type": "markdown",
   "metadata": {},
   "source": [
    "sf_graffiti['opened'].max()\n",
    "Timestamp('2020-08-28 01:02:00')"
   ]
  },
  {
   "cell_type": "markdown",
   "metadata": {},
   "source": [
    "#### The dataset has opened cases going back to 2008."
   ]
  },
  {
   "cell_type": "code",
   "execution_count": 19,
   "metadata": {},
   "outputs": [],
   "source": [
    "sf_graffiti['opened_year'] = sf_graffiti['opened'].dt.year"
   ]
  },
  {
   "cell_type": "code",
   "execution_count": 20,
   "metadata": {},
   "outputs": [],
   "source": [
    "sf_graffiti['opened_month'] = sf_graffiti['opened'].dt.month"
   ]
  },
  {
   "cell_type": "code",
   "execution_count": 21,
   "metadata": {},
   "outputs": [],
   "source": [
    "sf_graffiti['opened_dayofweek'] = sf_graffiti['opened'].dt.dayofweek"
   ]
  },
  {
   "cell_type": "code",
   "execution_count": 22,
   "metadata": {},
   "outputs": [
    {
     "data": {
      "text/html": [
       "<div>\n",
       "<style scoped>\n",
       "    .dataframe tbody tr th:only-of-type {\n",
       "        vertical-align: middle;\n",
       "    }\n",
       "\n",
       "    .dataframe tbody tr th {\n",
       "        vertical-align: top;\n",
       "    }\n",
       "\n",
       "    .dataframe thead th {\n",
       "        text-align: right;\n",
       "    }\n",
       "</style>\n",
       "<table border=\"1\" class=\"dataframe\">\n",
       "  <thead>\n",
       "    <tr style=\"text-align: right;\">\n",
       "      <th></th>\n",
       "      <th>caseid</th>\n",
       "      <th>opened</th>\n",
       "      <th>closed</th>\n",
       "      <th>updated</th>\n",
       "      <th>status</th>\n",
       "      <th>status_notes</th>\n",
       "      <th>responsible_agency</th>\n",
       "      <th>category</th>\n",
       "      <th>request_type</th>\n",
       "      <th>request_details</th>\n",
       "      <th>address</th>\n",
       "      <th>supervisor_district</th>\n",
       "      <th>neighborhood</th>\n",
       "      <th>point</th>\n",
       "      <th>source</th>\n",
       "      <th>media_url</th>\n",
       "      <th>opened_year</th>\n",
       "      <th>opened_month</th>\n",
       "      <th>opened_dayofweek</th>\n",
       "    </tr>\n",
       "  </thead>\n",
       "  <tbody>\n",
       "    <tr>\n",
       "      <th>0</th>\n",
       "      <td>10931260</td>\n",
       "      <td>2019-05-30 16:24:00</td>\n",
       "      <td>07/18/2020 01:00:33 AM</td>\n",
       "      <td>07/18/2020 01:00:33 AM</td>\n",
       "      <td>Closed</td>\n",
       "      <td>Administrative Closure - Case has aged - resub...</td>\n",
       "      <td>SFFD Other Queue</td>\n",
       "      <td>Graffiti</td>\n",
       "      <td>Graffiti on Other_enter_additional_details_below</td>\n",
       "      <td>Other_enter_additional_details_below - Offensive</td>\n",
       "      <td>1515 SUTTER ST, SAN FRANCISCO, CA, 94109</td>\n",
       "      <td>5.0</td>\n",
       "      <td>Cathedral Hill</td>\n",
       "      <td>(37.786838, -122.425451)</td>\n",
       "      <td>Mobile/Open311</td>\n",
       "      <td>http://mobile311.sfgov.org/reports/10931260/ph...</td>\n",
       "      <td>2019</td>\n",
       "      <td>5</td>\n",
       "      <td>3</td>\n",
       "    </tr>\n",
       "    <tr>\n",
       "      <th>1</th>\n",
       "      <td>10893175</td>\n",
       "      <td>2019-05-21 18:51:00</td>\n",
       "      <td>07/18/2020 01:00:33 AM</td>\n",
       "      <td>07/18/2020 01:00:33 AM</td>\n",
       "      <td>Closed</td>\n",
       "      <td>Administrative Closure - Case has aged - resub...</td>\n",
       "      <td>SFFD Other Queue</td>\n",
       "      <td>Graffiti</td>\n",
       "      <td>Graffiti on Building_commercial</td>\n",
       "      <td>Building_commercial - Not_Offensive</td>\n",
       "      <td>109 OAK ST, SAN FRANCISCO, CA, 94102</td>\n",
       "      <td>5.0</td>\n",
       "      <td>Civic Center</td>\n",
       "      <td>(37.7748711, -122.4209067)</td>\n",
       "      <td>Web</td>\n",
       "      <td>NaN</td>\n",
       "      <td>2019</td>\n",
       "      <td>5</td>\n",
       "      <td>1</td>\n",
       "    </tr>\n",
       "    <tr>\n",
       "      <th>2</th>\n",
       "      <td>12088529</td>\n",
       "      <td>2020-02-15 11:02:23</td>\n",
       "      <td>02/20/2020 09:50:01 AM</td>\n",
       "      <td>02/20/2020 09:50:01 AM</td>\n",
       "      <td>Closed</td>\n",
       "      <td>Case Resolved - meter shop has closed this req...</td>\n",
       "      <td>DPT Meter_Bike Queue</td>\n",
       "      <td>Graffiti</td>\n",
       "      <td>Graffiti on Parking_meter</td>\n",
       "      <td>Parking_meter - Offensive</td>\n",
       "      <td>930 GOUGH ST, SAN FRANCISCO, CA, 94109</td>\n",
       "      <td>5.0</td>\n",
       "      <td>Cathedral Hill</td>\n",
       "      <td>(37.78193333, -122.42400333)</td>\n",
       "      <td>Mobile/Open311</td>\n",
       "      <td>http://mobile311.sfgov.org/reports/12088529/ph...</td>\n",
       "      <td>2020</td>\n",
       "      <td>2</td>\n",
       "      <td>5</td>\n",
       "    </tr>\n",
       "    <tr>\n",
       "      <th>3</th>\n",
       "      <td>12088520</td>\n",
       "      <td>2020-02-15 11:01:00</td>\n",
       "      <td>02/20/2020 10:00:02 AM</td>\n",
       "      <td>02/20/2020 10:00:02 AM</td>\n",
       "      <td>Closed</td>\n",
       "      <td>Case Resolved - meter shop has closed this req...</td>\n",
       "      <td>DPT Meter_Bike Queue</td>\n",
       "      <td>Graffiti</td>\n",
       "      <td>Graffiti on Parking_meter</td>\n",
       "      <td>Parking_meter - Offensive</td>\n",
       "      <td>880 GOUGH ST, SAN FRANCISCO, CA, 94102</td>\n",
       "      <td>5.0</td>\n",
       "      <td>Cathedral Hill</td>\n",
       "      <td>(37.78135, -122.42388833)</td>\n",
       "      <td>Mobile/Open311</td>\n",
       "      <td>http://mobile311.sfgov.org/reports/12088520/ph...</td>\n",
       "      <td>2020</td>\n",
       "      <td>2</td>\n",
       "      <td>5</td>\n",
       "    </tr>\n",
       "    <tr>\n",
       "      <th>4</th>\n",
       "      <td>11178898</td>\n",
       "      <td>2019-07-25 13:07:00</td>\n",
       "      <td>07/18/2020 01:00:33 AM</td>\n",
       "      <td>07/18/2020 01:00:33 AM</td>\n",
       "      <td>Closed</td>\n",
       "      <td>Administrative Closure - Case has aged - resub...</td>\n",
       "      <td>SFFD Other Queue</td>\n",
       "      <td>Graffiti</td>\n",
       "      <td>Graffiti on Fire_Police_Callbox</td>\n",
       "      <td>Fire_Police_Callbox - Not_Offensive</td>\n",
       "      <td>Intersection of 2ND ST and STILLMAN ST</td>\n",
       "      <td>6.0</td>\n",
       "      <td>Rincon Hill</td>\n",
       "      <td>(37.78359046, -122.39416819)</td>\n",
       "      <td>Mobile/Open311</td>\n",
       "      <td>http://mobile311.sfgov.org/reports/11178898/ph...</td>\n",
       "      <td>2019</td>\n",
       "      <td>7</td>\n",
       "      <td>3</td>\n",
       "    </tr>\n",
       "  </tbody>\n",
       "</table>\n",
       "</div>"
      ],
      "text/plain": [
       "     caseid              opened                  closed  \\\n",
       "0  10931260 2019-05-30 16:24:00  07/18/2020 01:00:33 AM   \n",
       "1  10893175 2019-05-21 18:51:00  07/18/2020 01:00:33 AM   \n",
       "2  12088529 2020-02-15 11:02:23  02/20/2020 09:50:01 AM   \n",
       "3  12088520 2020-02-15 11:01:00  02/20/2020 10:00:02 AM   \n",
       "4  11178898 2019-07-25 13:07:00  07/18/2020 01:00:33 AM   \n",
       "\n",
       "                  updated  status  \\\n",
       "0  07/18/2020 01:00:33 AM  Closed   \n",
       "1  07/18/2020 01:00:33 AM  Closed   \n",
       "2  02/20/2020 09:50:01 AM  Closed   \n",
       "3  02/20/2020 10:00:02 AM  Closed   \n",
       "4  07/18/2020 01:00:33 AM  Closed   \n",
       "\n",
       "                                        status_notes    responsible_agency  \\\n",
       "0  Administrative Closure - Case has aged - resub...      SFFD Other Queue   \n",
       "1  Administrative Closure - Case has aged - resub...      SFFD Other Queue   \n",
       "2  Case Resolved - meter shop has closed this req...  DPT Meter_Bike Queue   \n",
       "3  Case Resolved - meter shop has closed this req...  DPT Meter_Bike Queue   \n",
       "4  Administrative Closure - Case has aged - resub...      SFFD Other Queue   \n",
       "\n",
       "   category                                      request_type  \\\n",
       "0  Graffiti  Graffiti on Other_enter_additional_details_below   \n",
       "1  Graffiti                   Graffiti on Building_commercial   \n",
       "2  Graffiti                         Graffiti on Parking_meter   \n",
       "3  Graffiti                         Graffiti on Parking_meter   \n",
       "4  Graffiti                   Graffiti on Fire_Police_Callbox   \n",
       "\n",
       "                                    request_details  \\\n",
       "0  Other_enter_additional_details_below - Offensive   \n",
       "1               Building_commercial - Not_Offensive   \n",
       "2                         Parking_meter - Offensive   \n",
       "3                         Parking_meter - Offensive   \n",
       "4               Fire_Police_Callbox - Not_Offensive   \n",
       "\n",
       "                                    address  supervisor_district  \\\n",
       "0  1515 SUTTER ST, SAN FRANCISCO, CA, 94109                  5.0   \n",
       "1      109 OAK ST, SAN FRANCISCO, CA, 94102                  5.0   \n",
       "2    930 GOUGH ST, SAN FRANCISCO, CA, 94109                  5.0   \n",
       "3    880 GOUGH ST, SAN FRANCISCO, CA, 94102                  5.0   \n",
       "4    Intersection of 2ND ST and STILLMAN ST                  6.0   \n",
       "\n",
       "     neighborhood                         point          source  \\\n",
       "0  Cathedral Hill      (37.786838, -122.425451)  Mobile/Open311   \n",
       "1    Civic Center    (37.7748711, -122.4209067)             Web   \n",
       "2  Cathedral Hill  (37.78193333, -122.42400333)  Mobile/Open311   \n",
       "3  Cathedral Hill     (37.78135, -122.42388833)  Mobile/Open311   \n",
       "4     Rincon Hill  (37.78359046, -122.39416819)  Mobile/Open311   \n",
       "\n",
       "                                           media_url  opened_year  \\\n",
       "0  http://mobile311.sfgov.org/reports/10931260/ph...         2019   \n",
       "1                                                NaN         2019   \n",
       "2  http://mobile311.sfgov.org/reports/12088529/ph...         2020   \n",
       "3  http://mobile311.sfgov.org/reports/12088520/ph...         2020   \n",
       "4  http://mobile311.sfgov.org/reports/11178898/ph...         2019   \n",
       "\n",
       "   opened_month  opened_dayofweek  \n",
       "0             5                 3  \n",
       "1             5                 1  \n",
       "2             2                 5  \n",
       "3             2                 5  \n",
       "4             7                 3  "
      ]
     },
     "execution_count": 22,
     "metadata": {},
     "output_type": "execute_result"
    }
   ],
   "source": [
    "sf_graffiti.head()"
   ]
  },
  {
   "cell_type": "markdown",
   "metadata": {},
   "source": [
    "#### Show a graph of which neighborhoods have the most graffiti."
   ]
  },
  {
   "cell_type": "code",
   "execution_count": 23,
   "metadata": {},
   "outputs": [
    {
     "data": {
      "image/png": "[encoded data removed]",
      "text/plain": [
       "<Figure size 720x576 with 1 Axes>"
      ]
     },
     "metadata": {
      "needs_background": "light"
     },
     "output_type": "display_data"
    }
   ],
   "source": [
    "plt.figure(figsize = (10, 8))\n",
    "sns.set(style=\"whitegrid\")\n",
    "chart = sns.barplot('neighborhood', 'counts', data = top_10_neighborhoood_counts)\n",
    "plt.xlabel('Neighborhood')\n",
    "plt.ylabel('Count of Cases')\n",
    "plt.title('Graffiti Distribution by Neighborhood')\n",
    "plt.setp(chart.get_xticklabels(), rotation=45);"
   ]
  },
  {
   "cell_type": "markdown",
   "metadata": {},
   "source": [
    "#### Let's find out more about the Mission. \n",
    "<ol>\n",
    "    <li>How have the counts changed over time? Have they increased or decreased?</li>\n",
    "    <li>Is Mission Dolores technically part of the Mission?</li>\n",
    "    <li>What is the highest amount of cases in a single day?</li>\n",
    "    <li>What kind of economic data can we bring in about the city? About the Mission?</li>"
   ]
  },
  {
   "cell_type": "code",
   "execution_count": 24,
   "metadata": {
    "scrolled": true
   },
   "outputs": [],
   "source": [
    "mission = sf_graffiti[(sf_graffiti.neighborhood.isin(['Mission']))]"
   ]
  },
  {
   "cell_type": "code",
   "execution_count": 25,
   "metadata": {},
   "outputs": [],
   "source": [
    "mission_case_count = mission.opened_year \\\n",
    "    .value_counts() \\\n",
    "    .to_frame() \\\n",
    "    .reset_index() \\\n",
    "    .rename(columns = {'index' : 'opened_year', 'opened_year' : 'case_count'}) \\\n",
    "    .sort_values(by = 'opened_year')"
   ]
  },
  {
   "cell_type": "code",
   "execution_count": 26,
   "metadata": {
    "scrolled": true
   },
   "outputs": [
    {
     "data": {
      "image/png": "[encoded data removed]",
      "text/plain": [
       "<Figure size 432x288 with 1 Axes>"
      ]
     },
     "metadata": {},
     "output_type": "display_data"
    }
   ],
   "source": [
    "sns.lineplot('opened_year', 'case_count', data = mission_case_count, marker='o')\n",
    "plt.show()"
   ]
  },
  {
   "cell_type": "markdown",
   "metadata": {},
   "source": [
    "#### What about the city as a whole? Are cases on the decline in recent years?"
   ]
  },
  {
   "cell_type": "code",
   "execution_count": 27,
   "metadata": {},
   "outputs": [],
   "source": [
    "total_case_count_year = sf_graffiti['opened_year'] \\\n",
    "    .value_counts() \\\n",
    "    .to_frame() \\\n",
    "    .reset_index() \\\n",
    "    .rename(columns = {'index' : 'opened_year', 'opened_year' : 'case_count'}) \\\n",
    "    .sort_values(by = 'opened_year')"
   ]
  },
  {
   "cell_type": "code",
   "execution_count": 28,
   "metadata": {
    "scrolled": false
   },
   "outputs": [
    {
     "data": {
      "image/png": "[encoded data removed]",
      "text/plain": [
       "<Figure size 432x288 with 1 Axes>"
      ]
     },
     "metadata": {},
     "output_type": "display_data"
    }
   ],
   "source": [
    "sns.lineplot('opened_year', 'case_count', data = total_case_count_year, marker='o')\n",
    "plt.show()"
   ]
  },
  {
   "cell_type": "markdown",
   "metadata": {},
   "source": [
    "So far there is a downward trend, although 2020 still has a few months to go."
   ]
  },
  {
   "cell_type": "markdown",
   "metadata": {},
   "source": [
    "#### Which months see the most graffiti?"
   ]
  },
  {
   "cell_type": "code",
   "execution_count": 29,
   "metadata": {},
   "outputs": [],
   "source": [
    "total_case_count_month = sf_graffiti['opened_month'] \\\n",
    "    .value_counts() \\\n",
    "    .to_frame() \\\n",
    "    .reset_index() \\\n",
    "    .rename(columns = {'index' : 'opened_month', 'opened_month' : 'case_count'}) \\\n",
    "    .sort_values(by = 'opened_month')"
   ]
  },
  {
   "cell_type": "code",
   "execution_count": 30,
   "metadata": {
    "scrolled": false
   },
   "outputs": [
    {
     "data": {
      "image/png": "[encoded data removed]",
      "text/plain": [
       "<Figure size 432x288 with 1 Axes>"
      ]
     },
     "metadata": {},
     "output_type": "display_data"
    }
   ],
   "source": [
    "sns.lineplot('opened_month', 'case_count', data = total_case_count_month, marker='o')\n",
    "plt.show()"
   ]
  },
  {
   "cell_type": "markdown",
   "metadata": {},
   "source": [
    "According to the data, the most graffiti has been reported at the beginning of the year, and drops significantly by September. "
   ]
  },
  {
   "cell_type": "markdown",
   "metadata": {},
   "source": [
    "#### Which days of the week see the most graffiti reporting?"
   ]
  },
  {
   "cell_type": "code",
   "execution_count": 42,
   "metadata": {},
   "outputs": [],
   "source": [
    "total_case_count_dayofweek = sf_graffiti['opened_dayofweek'] \\\n",
    "    .value_counts() \\\n",
    "    .to_frame() \\\n",
    "    .reset_index() \\\n",
    "    .rename(columns = {'index' : 'opened_dayofweek', 'opened_dayofweek' : 'case_count'}) \\\n",
    "    .sort_values(by = 'opened_dayofweek')"
   ]
  },
  {
   "cell_type": "code",
   "execution_count": 43,
   "metadata": {
    "scrolled": true
   },
   "outputs": [
    {
     "data": {
      "image/png": "[encoded data removed]",
      "text/plain": [
       "<Figure size 432x288 with 1 Axes>"
      ]
     },
     "metadata": {},
     "output_type": "display_data"
    }
   ],
   "source": [
    "sns.lineplot('opened_dayofweek', 'case_count', data = total_case_count_dayofweek, marker='o')\n",
    "plt.show()"
   ]
  },
  {
   "cell_type": "code",
   "execution_count": 44,
   "metadata": {},
   "outputs": [
    {
     "data": {
      "text/html": [
       "<div>\n",
       "<style scoped>\n",
       "    .dataframe tbody tr th:only-of-type {\n",
       "        vertical-align: middle;\n",
       "    }\n",
       "\n",
       "    .dataframe tbody tr th {\n",
       "        vertical-align: top;\n",
       "    }\n",
       "\n",
       "    .dataframe thead th {\n",
       "        text-align: right;\n",
       "    }\n",
       "</style>\n",
       "<table border=\"1\" class=\"dataframe\">\n",
       "  <thead>\n",
       "    <tr style=\"text-align: right;\">\n",
       "      <th></th>\n",
       "      <th>caseid</th>\n",
       "      <th>opened</th>\n",
       "      <th>closed</th>\n",
       "      <th>updated</th>\n",
       "      <th>status</th>\n",
       "      <th>status_notes</th>\n",
       "      <th>responsible_agency</th>\n",
       "      <th>category</th>\n",
       "      <th>request_type</th>\n",
       "      <th>request_details</th>\n",
       "      <th>address</th>\n",
       "      <th>supervisor_district</th>\n",
       "      <th>neighborhood</th>\n",
       "      <th>point</th>\n",
       "      <th>source</th>\n",
       "      <th>media_url</th>\n",
       "      <th>opened_year</th>\n",
       "      <th>opened_month</th>\n",
       "      <th>opened_dayofweek</th>\n",
       "    </tr>\n",
       "  </thead>\n",
       "  <tbody>\n",
       "    <tr>\n",
       "      <th>0</th>\n",
       "      <td>10931260</td>\n",
       "      <td>2019-05-30 16:24:00</td>\n",
       "      <td>07/18/2020 01:00:33 AM</td>\n",
       "      <td>07/18/2020 01:00:33 AM</td>\n",
       "      <td>Closed</td>\n",
       "      <td>Administrative Closure - Case has aged - resub...</td>\n",
       "      <td>SFFD Other Queue</td>\n",
       "      <td>Graffiti</td>\n",
       "      <td>Graffiti on Other_enter_additional_details_below</td>\n",
       "      <td>Other_enter_additional_details_below - Offensive</td>\n",
       "      <td>1515 SUTTER ST, SAN FRANCISCO, CA, 94109</td>\n",
       "      <td>5.0</td>\n",
       "      <td>Cathedral Hill</td>\n",
       "      <td>(37.786838, -122.425451)</td>\n",
       "      <td>Mobile/Open311</td>\n",
       "      <td>http://mobile311.sfgov.org/reports/10931260/ph...</td>\n",
       "      <td>2019</td>\n",
       "      <td>5</td>\n",
       "      <td>3</td>\n",
       "    </tr>\n",
       "    <tr>\n",
       "      <th>1</th>\n",
       "      <td>10893175</td>\n",
       "      <td>2019-05-21 18:51:00</td>\n",
       "      <td>07/18/2020 01:00:33 AM</td>\n",
       "      <td>07/18/2020 01:00:33 AM</td>\n",
       "      <td>Closed</td>\n",
       "      <td>Administrative Closure - Case has aged - resub...</td>\n",
       "      <td>SFFD Other Queue</td>\n",
       "      <td>Graffiti</td>\n",
       "      <td>Graffiti on Building_commercial</td>\n",
       "      <td>Building_commercial - Not_Offensive</td>\n",
       "      <td>109 OAK ST, SAN FRANCISCO, CA, 94102</td>\n",
       "      <td>5.0</td>\n",
       "      <td>Civic Center</td>\n",
       "      <td>(37.7748711, -122.4209067)</td>\n",
       "      <td>Web</td>\n",
       "      <td>NaN</td>\n",
       "      <td>2019</td>\n",
       "      <td>5</td>\n",
       "      <td>1</td>\n",
       "    </tr>\n",
       "    <tr>\n",
       "      <th>2</th>\n",
       "      <td>12088529</td>\n",
       "      <td>2020-02-15 11:02:23</td>\n",
       "      <td>02/20/2020 09:50:01 AM</td>\n",
       "      <td>02/20/2020 09:50:01 AM</td>\n",
       "      <td>Closed</td>\n",
       "      <td>Case Resolved - meter shop has closed this req...</td>\n",
       "      <td>DPT Meter_Bike Queue</td>\n",
       "      <td>Graffiti</td>\n",
       "      <td>Graffiti on Parking_meter</td>\n",
       "      <td>Parking_meter - Offensive</td>\n",
       "      <td>930 GOUGH ST, SAN FRANCISCO, CA, 94109</td>\n",
       "      <td>5.0</td>\n",
       "      <td>Cathedral Hill</td>\n",
       "      <td>(37.78193333, -122.42400333)</td>\n",
       "      <td>Mobile/Open311</td>\n",
       "      <td>http://mobile311.sfgov.org/reports/12088529/ph...</td>\n",
       "      <td>2020</td>\n",
       "      <td>2</td>\n",
       "      <td>5</td>\n",
       "    </tr>\n",
       "    <tr>\n",
       "      <th>3</th>\n",
       "      <td>12088520</td>\n",
       "      <td>2020-02-15 11:01:00</td>\n",
       "      <td>02/20/2020 10:00:02 AM</td>\n",
       "      <td>02/20/2020 10:00:02 AM</td>\n",
       "      <td>Closed</td>\n",
       "      <td>Case Resolved - meter shop has closed this req...</td>\n",
       "      <td>DPT Meter_Bike Queue</td>\n",
       "      <td>Graffiti</td>\n",
       "      <td>Graffiti on Parking_meter</td>\n",
       "      <td>Parking_meter - Offensive</td>\n",
       "      <td>880 GOUGH ST, SAN FRANCISCO, CA, 94102</td>\n",
       "      <td>5.0</td>\n",
       "      <td>Cathedral Hill</td>\n",
       "      <td>(37.78135, -122.42388833)</td>\n",
       "      <td>Mobile/Open311</td>\n",
       "      <td>http://mobile311.sfgov.org/reports/12088520/ph...</td>\n",
       "      <td>2020</td>\n",
       "      <td>2</td>\n",
       "      <td>5</td>\n",
       "    </tr>\n",
       "    <tr>\n",
       "      <th>4</th>\n",
       "      <td>11178898</td>\n",
       "      <td>2019-07-25 13:07:00</td>\n",
       "      <td>07/18/2020 01:00:33 AM</td>\n",
       "      <td>07/18/2020 01:00:33 AM</td>\n",
       "      <td>Closed</td>\n",
       "      <td>Administrative Closure - Case has aged - resub...</td>\n",
       "      <td>SFFD Other Queue</td>\n",
       "      <td>Graffiti</td>\n",
       "      <td>Graffiti on Fire_Police_Callbox</td>\n",
       "      <td>Fire_Police_Callbox - Not_Offensive</td>\n",
       "      <td>Intersection of 2ND ST and STILLMAN ST</td>\n",
       "      <td>6.0</td>\n",
       "      <td>Rincon Hill</td>\n",
       "      <td>(37.78359046, -122.39416819)</td>\n",
       "      <td>Mobile/Open311</td>\n",
       "      <td>http://mobile311.sfgov.org/reports/11178898/ph...</td>\n",
       "      <td>2019</td>\n",
       "      <td>7</td>\n",
       "      <td>3</td>\n",
       "    </tr>\n",
       "  </tbody>\n",
       "</table>\n",
       "</div>"
      ],
      "text/plain": [
       "     caseid              opened                  closed  \\\n",
       "0  10931260 2019-05-30 16:24:00  07/18/2020 01:00:33 AM   \n",
       "1  10893175 2019-05-21 18:51:00  07/18/2020 01:00:33 AM   \n",
       "2  12088529 2020-02-15 11:02:23  02/20/2020 09:50:01 AM   \n",
       "3  12088520 2020-02-15 11:01:00  02/20/2020 10:00:02 AM   \n",
       "4  11178898 2019-07-25 13:07:00  07/18/2020 01:00:33 AM   \n",
       "\n",
       "                  updated  status  \\\n",
       "0  07/18/2020 01:00:33 AM  Closed   \n",
       "1  07/18/2020 01:00:33 AM  Closed   \n",
       "2  02/20/2020 09:50:01 AM  Closed   \n",
       "3  02/20/2020 10:00:02 AM  Closed   \n",
       "4  07/18/2020 01:00:33 AM  Closed   \n",
       "\n",
       "                                        status_notes    responsible_agency  \\\n",
       "0  Administrative Closure - Case has aged - resub...      SFFD Other Queue   \n",
       "1  Administrative Closure - Case has aged - resub...      SFFD Other Queue   \n",
       "2  Case Resolved - meter shop has closed this req...  DPT Meter_Bike Queue   \n",
       "3  Case Resolved - meter shop has closed this req...  DPT Meter_Bike Queue   \n",
       "4  Administrative Closure - Case has aged - resub...      SFFD Other Queue   \n",
       "\n",
       "   category                                      request_type  \\\n",
       "0  Graffiti  Graffiti on Other_enter_additional_details_below   \n",
       "1  Graffiti                   Graffiti on Building_commercial   \n",
       "2  Graffiti                         Graffiti on Parking_meter   \n",
       "3  Graffiti                         Graffiti on Parking_meter   \n",
       "4  Graffiti                   Graffiti on Fire_Police_Callbox   \n",
       "\n",
       "                                    request_details  \\\n",
       "0  Other_enter_additional_details_below - Offensive   \n",
       "1               Building_commercial - Not_Offensive   \n",
       "2                         Parking_meter - Offensive   \n",
       "3                         Parking_meter - Offensive   \n",
       "4               Fire_Police_Callbox - Not_Offensive   \n",
       "\n",
       "                                    address  supervisor_district  \\\n",
       "0  1515 SUTTER ST, SAN FRANCISCO, CA, 94109                  5.0   \n",
       "1      109 OAK ST, SAN FRANCISCO, CA, 94102                  5.0   \n",
       "2    930 GOUGH ST, SAN FRANCISCO, CA, 94109                  5.0   \n",
       "3    880 GOUGH ST, SAN FRANCISCO, CA, 94102                  5.0   \n",
       "4    Intersection of 2ND ST and STILLMAN ST                  6.0   \n",
       "\n",
       "     neighborhood                         point          source  \\\n",
       "0  Cathedral Hill      (37.786838, -122.425451)  Mobile/Open311   \n",
       "1    Civic Center    (37.7748711, -122.4209067)             Web   \n",
       "2  Cathedral Hill  (37.78193333, -122.42400333)  Mobile/Open311   \n",
       "3  Cathedral Hill     (37.78135, -122.42388833)  Mobile/Open311   \n",
       "4     Rincon Hill  (37.78359046, -122.39416819)  Mobile/Open311   \n",
       "\n",
       "                                           media_url  opened_year  \\\n",
       "0  http://mobile311.sfgov.org/reports/10931260/ph...         2019   \n",
       "1                                                NaN         2019   \n",
       "2  http://mobile311.sfgov.org/reports/12088529/ph...         2020   \n",
       "3  http://mobile311.sfgov.org/reports/12088520/ph...         2020   \n",
       "4  http://mobile311.sfgov.org/reports/11178898/ph...         2019   \n",
       "\n",
       "   opened_month  opened_dayofweek  \n",
       "0             5                 3  \n",
       "1             5                 1  \n",
       "2             2                 5  \n",
       "3             2                 5  \n",
       "4             7                 3  "
      ]
     },
     "execution_count": 44,
     "metadata": {},
     "output_type": "execute_result"
    }
   ],
   "source": [
    "sf_graffiti.head()"
   ]
  },
  {
   "cell_type": "markdown",
   "metadata": {},
   "source": [
    "#### Can we bring SF weather data in to see if there are any correlations?"
   ]
  },
  {
   "cell_type": "markdown",
   "metadata": {},
   "source": [
    "Web scrape:\n",
    "    https://www.usclimatedata.com/climate/san-francisco/california/united-states/usca0987"
   ]
  },
  {
   "cell_type": "markdown",
   "metadata": {},
   "source": [
    "#### What about the average counts by month, by year?"
   ]
  },
  {
   "cell_type": "code",
   "execution_count": 31,
   "metadata": {
    "scrolled": true
   },
   "outputs": [
    {
     "data": {
      "text/html": [
       "<div>\n",
       "<style scoped>\n",
       "    .dataframe tbody tr th:only-of-type {\n",
       "        vertical-align: middle;\n",
       "    }\n",
       "\n",
       "    .dataframe tbody tr th {\n",
       "        vertical-align: top;\n",
       "    }\n",
       "\n",
       "    .dataframe thead th {\n",
       "        text-align: right;\n",
       "    }\n",
       "</style>\n",
       "<table border=\"1\" class=\"dataframe\">\n",
       "  <thead>\n",
       "    <tr style=\"text-align: right;\">\n",
       "      <th></th>\n",
       "      <th></th>\n",
       "      <th>Max Speed</th>\n",
       "    </tr>\n",
       "    <tr>\n",
       "      <th>Animal</th>\n",
       "      <th>Type</th>\n",
       "      <th></th>\n",
       "    </tr>\n",
       "  </thead>\n",
       "  <tbody>\n",
       "    <tr>\n",
       "      <th rowspan=\"2\" valign=\"top\">Falcon</th>\n",
       "      <th>Captive</th>\n",
       "      <td>390.0</td>\n",
       "    </tr>\n",
       "    <tr>\n",
       "      <th>Wild</th>\n",
       "      <td>350.0</td>\n",
       "    </tr>\n",
       "    <tr>\n",
       "      <th rowspan=\"2\" valign=\"top\">Parrot</th>\n",
       "      <th>Captive</th>\n",
       "      <td>30.0</td>\n",
       "    </tr>\n",
       "    <tr>\n",
       "      <th>Wild</th>\n",
       "      <td>20.0</td>\n",
       "    </tr>\n",
       "  </tbody>\n",
       "</table>\n",
       "</div>"
      ],
      "text/plain": [
       "                Max Speed\n",
       "Animal Type              \n",
       "Falcon Captive      390.0\n",
       "       Wild         350.0\n",
       "Parrot Captive       30.0\n",
       "       Wild          20.0"
      ]
     },
     "execution_count": 31,
     "metadata": {},
     "output_type": "execute_result"
    }
   ],
   "source": [
    "#Messing with arrays with code from pandas documentation\n",
    "\n",
    "arrays = [['Falcon', 'Falcon', 'Parrot', 'Parrot'],\n",
    "          ['Captive', 'Wild', 'Captive', 'Wild']]\n",
    "index = pd.MultiIndex.from_arrays(arrays, names=('Animal', 'Type'))\n",
    "df = pd.DataFrame({'Max Speed': [390., 350., 30., 20.]},\n",
    "                  index=index)\n",
    "df"
   ]
  },
  {
   "cell_type": "code",
   "execution_count": 32,
   "metadata": {},
   "outputs": [
    {
     "data": {
      "text/html": [
       "<div>\n",
       "<style scoped>\n",
       "    .dataframe tbody tr th:only-of-type {\n",
       "        vertical-align: middle;\n",
       "    }\n",
       "\n",
       "    .dataframe tbody tr th {\n",
       "        vertical-align: top;\n",
       "    }\n",
       "\n",
       "    .dataframe thead th {\n",
       "        text-align: right;\n",
       "    }\n",
       "</style>\n",
       "<table border=\"1\" class=\"dataframe\">\n",
       "  <thead>\n",
       "    <tr style=\"text-align: right;\">\n",
       "      <th></th>\n",
       "      <th>Max Speed</th>\n",
       "    </tr>\n",
       "    <tr>\n",
       "      <th>Animal</th>\n",
       "      <th></th>\n",
       "    </tr>\n",
       "  </thead>\n",
       "  <tbody>\n",
       "    <tr>\n",
       "      <th>Falcon</th>\n",
       "      <td>370.0</td>\n",
       "    </tr>\n",
       "    <tr>\n",
       "      <th>Parrot</th>\n",
       "      <td>25.0</td>\n",
       "    </tr>\n",
       "  </tbody>\n",
       "</table>\n",
       "</div>"
      ],
      "text/plain": [
       "        Max Speed\n",
       "Animal           \n",
       "Falcon      370.0\n",
       "Parrot       25.0"
      ]
     },
     "execution_count": 32,
     "metadata": {},
     "output_type": "execute_result"
    }
   ],
   "source": [
    "#Messing with arrays with code from pandas documentation\n",
    "\n",
    "df.groupby(level=0).mean()"
   ]
  },
  {
   "cell_type": "code",
   "execution_count": 33,
   "metadata": {},
   "outputs": [
    {
     "data": {
      "text/html": [
       "<div>\n",
       "<style scoped>\n",
       "    .dataframe tbody tr th:only-of-type {\n",
       "        vertical-align: middle;\n",
       "    }\n",
       "\n",
       "    .dataframe tbody tr th {\n",
       "        vertical-align: top;\n",
       "    }\n",
       "\n",
       "    .dataframe thead th {\n",
       "        text-align: right;\n",
       "    }\n",
       "</style>\n",
       "<table border=\"1\" class=\"dataframe\">\n",
       "  <thead>\n",
       "    <tr style=\"text-align: right;\">\n",
       "      <th></th>\n",
       "      <th>Max Speed</th>\n",
       "    </tr>\n",
       "    <tr>\n",
       "      <th>Type</th>\n",
       "      <th></th>\n",
       "    </tr>\n",
       "  </thead>\n",
       "  <tbody>\n",
       "    <tr>\n",
       "      <th>Captive</th>\n",
       "      <td>210.0</td>\n",
       "    </tr>\n",
       "    <tr>\n",
       "      <th>Wild</th>\n",
       "      <td>185.0</td>\n",
       "    </tr>\n",
       "  </tbody>\n",
       "</table>\n",
       "</div>"
      ],
      "text/plain": [
       "         Max Speed\n",
       "Type              \n",
       "Captive      210.0\n",
       "Wild         185.0"
      ]
     },
     "execution_count": 33,
     "metadata": {},
     "output_type": "execute_result"
    }
   ],
   "source": [
    "#Messing with arrays with code from pandas documentation\n",
    "\n",
    "df.groupby(level=\"Type\").mean()"
   ]
  },
  {
   "cell_type": "markdown",
   "metadata": {},
   "source": [
    "#### Are there any null values in the full data set?"
   ]
  },
  {
   "cell_type": "code",
   "execution_count": 34,
   "metadata": {},
   "outputs": [
    {
     "data": {
      "text/plain": [
       "0"
      ]
     },
     "execution_count": 34,
     "metadata": {},
     "output_type": "execute_result"
    }
   ],
   "source": [
    "sf_graffiti['opened_year'].isnull().sum()"
   ]
  },
  {
   "cell_type": "markdown",
   "metadata": {},
   "source": [
    "There are no null values in the opened year column."
   ]
  },
  {
   "cell_type": "markdown",
   "metadata": {},
   "source": [
    "#### How many duplicate cases are there?"
   ]
  },
  {
   "cell_type": "code",
   "execution_count": 35,
   "metadata": {},
   "outputs": [],
   "source": [
    "#sf_graffiti['status_notes'].value_counts()"
   ]
  },
  {
   "cell_type": "code",
   "execution_count": 36,
   "metadata": {},
   "outputs": [],
   "source": [
    "duplicate_status_notes = sf_graffiti[sf_graffiti['status_notes'].str.contains('uplicate', na = False)]"
   ]
  },
  {
   "cell_type": "code",
   "execution_count": 37,
   "metadata": {},
   "outputs": [
    {
     "data": {
      "text/plain": [
       "(36698, 19)"
      ]
     },
     "execution_count": 37,
     "metadata": {},
     "output_type": "execute_result"
    }
   ],
   "source": [
    "duplicate_status_notes.shape"
   ]
  },
  {
   "cell_type": "markdown",
   "metadata": {},
   "source": [
    "There are 36,698 duplicate cases."
   ]
  },
  {
   "cell_type": "markdown",
   "metadata": {},
   "source": [
    "#### How many cases were on USPS property? Why is the USPS responsible for dealing with its own graffiti?"
   ]
  },
  {
   "cell_type": "code",
   "execution_count": 38,
   "metadata": {},
   "outputs": [
    {
     "data": {
      "text/plain": [
       "(24740, 19)"
      ]
     },
     "execution_count": 38,
     "metadata": {},
     "output_type": "execute_result"
    }
   ],
   "source": [
    "sf_graffiti[sf_graffiti['responsible_agency'].str.contains('US Postal Service', na = False)].shape"
   ]
  },
  {
   "cell_type": "markdown",
   "metadata": {},
   "source": [
    "There are 24,740 USPS cases."
   ]
  },
  {
   "cell_type": "code",
   "execution_count": 39,
   "metadata": {},
   "outputs": [],
   "source": [
    "mission_cleaned = mission.drop(columns = ['caseid', 'opened', 'closed', 'updated', 'status', 'status_notes',\n",
    "       'responsible_agency', 'category', 'request_type', 'request_details', 'supervisor_district', 'neighborhood', 'source',\n",
    "       'media_url'])"
   ]
  },
  {
   "cell_type": "code",
   "execution_count": 40,
   "metadata": {
    "scrolled": true
   },
   "outputs": [],
   "source": [
    "mission_cleaned.to_csv('../data/mission_cleaned.csv')"
   ]
  },
  {
   "cell_type": "markdown",
   "metadata": {},
   "source": [
    "#### Are there any correlations between transit stops and graffiti?"
   ]
  },
  {
   "cell_type": "code",
   "execution_count": 41,
   "metadata": {
    "scrolled": true
   },
   "outputs": [
    {
     "data": {
      "text/html": [
       "<div style=\"width:100%;\"><div style=\"position:relative;width:100%;height:0;padding-bottom:60%;\"><iframe src=\"data:text/html;charset=utf-8;base64,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\" style=\"position:absolute;width:100%;height:100%;left:0;top:0;border:none !important;\" allowfullscreen webkitallowfullscreen mozallowfullscreen></iframe></div></div>"
      ],
      "text/plain": [
       "<folium.folium.Map at 0x1a2183dc438>"
      ]
     },
     "metadata": {},
     "output_type": "display_data"
    }
   ],
   "source": [
    "san_francisco = [37.773972, -122.431297]\n",
    "san_francisco_map = folium.Map(location = san_francisco, zoom_start = 13)\n",
    "\n",
    "display(san_francisco_map)"
   ]
  }
 ],
 "metadata": {
  "kernelspec": {
   "display_name": "Python 3",
   "language": "python",
   "name": "python3"
  },
  "language_info": {
   "codemirror_mode": {
    "name": "ipython",
    "version": 3
   },
   "file_extension": ".py",
   "mimetype": "text/x-python",
   "name": "python",
   "nbconvert_exporter": "python",
   "pygments_lexer": "ipython3",
   "version": "3.7.3"
  }
 },
 "nbformat": 4,
 "nbformat_minor": 2
}
